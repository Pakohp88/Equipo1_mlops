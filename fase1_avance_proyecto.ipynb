{
 "cells": [
  {
   "cell_type": "code",
   "execution_count": null,
   "metadata": {
    "colab": {
     "base_uri": "https://localhost:8080/"
    },
    "executionInfo": {
     "elapsed": 799,
     "status": "ok",
     "timestamp": 1759944827209,
     "user": {
      "displayName": "Pako HP",
      "userId": "10168600589851358204"
     },
     "user_tz": 360
    },
    "id": "M77VH4UC2Me7",
    "outputId": "23224ae4-12aa-4732-bdd5-a38b6da485bc"
   },
   "outputs": [],
   "source": [
    "!git clone https://github.com/Pakohp88/Equipo1_mlops.git"
   ]
  },
  {
   "cell_type": "code",
   "execution_count": null,
   "metadata": {
    "colab": {
     "base_uri": "https://localhost:8080/"
    },
    "executionInfo": {
     "elapsed": 26,
     "status": "ok",
     "timestamp": 1759945078267,
     "user": {
      "displayName": "Pako HP",
      "userId": "10168600589851358204"
     },
     "user_tz": 360
    },
    "id": "aSZHED_I3eyH",
    "outputId": "6182d49e-44da-4295-83d8-3f1421c7365c"
   },
   "outputs": [],
   "source": [
    "%cd /content/Equipo1_mlops"
   ]
  },
  {
   "cell_type": "code",
   "execution_count": null,
   "metadata": {
    "colab": {
     "base_uri": "https://localhost:8080/"
    },
    "executionInfo": {
     "elapsed": 112,
     "status": "ok",
     "timestamp": 1759945080905,
     "user": {
      "displayName": "Pako HP",
      "userId": "10168600589851358204"
     },
     "user_tz": 360
    },
    "id": "Y8Y5e8ae5Oe3",
    "outputId": "d2d3b9de-9253-45a4-a5c0-9ec6d92d2690"
   },
   "outputs": [],
   "source": [
    "!git status"
   ]
  },
  {
   "cell_type": "code",
   "execution_count": null,
   "metadata": {
    "colab": {
     "base_uri": "https://localhost:8080/"
    },
    "executionInfo": {
     "elapsed": 116,
     "status": "ok",
     "timestamp": 1759945535814,
     "user": {
      "displayName": "Pako HP",
      "userId": "10168600589851358204"
     },
     "user_tz": 360
    },
    "id": "EDqYgIvK7QNd",
    "outputId": "c06bce6f-e2a3-47a0-f6ed-12082a720157"
   },
   "outputs": [],
   "source": [
    "!git checkout -b feature/eda"
   ]
  },
  {
   "cell_type": "code",
   "execution_count": null,
   "metadata": {
    "executionInfo": {
     "elapsed": 15,
     "status": "ok",
     "timestamp": 1759950237960,
     "user": {
      "displayName": "Pako HP",
      "userId": "10168600589851358204"
     },
     "user_tz": 360
    },
    "id": "tVkQ6xMs8ROX"
   },
   "outputs": [],
   "source": [
    "import os\n",
    "import re\n",
    "import math\n",
    "import json\n",
    "import joblib\n",
    "import numpy as np\n",
    "import pandas as pd\n",
    "import re\n",
    "import matplotlib.pyplot as plt\n",
    "import seaborn as sns\n",
    "\n",
    "from pathlib import Path\n",
    "from typing import Tuple, List, Dict, Optional\n",
    "from sklearn.model_selection import train_test_split\n",
    "from sklearn.compose import ColumnTransformer\n",
    "from sklearn.preprocessing import OneHotEncoder, StandardScaler\n",
    "from sklearn.impute import SimpleImputer\n",
    "from typing import List, Dict, Optional"
   ]
  },
  {
   "cell_type": "markdown",
   "metadata": {
    "id": "dO4e1GJp8jt-"
   },
   "source": [
    "**Carga y revisión inicial del dataset**"
   ]
  },
  {
   "cell_type": "code",
   "execution_count": null,
   "metadata": {
    "colab": {
     "base_uri": "https://localhost:8080/",
     "height": 1000
    },
    "executionInfo": {
     "elapsed": 115,
     "status": "ok",
     "timestamp": 1759948836774,
     "user": {
      "displayName": "Pako HP",
      "userId": "10168600589851358204"
     },
     "user_tz": 360
    },
    "id": "wGLDIhUv8TOQ",
    "outputId": "12378494-3fc7-4c80-bae6-27142d795ce3"
   },
   "outputs": [],
   "source": [
    "import pandas as pd\n",
    "\n",
    "# Cargar el dataset (tu avance)\n",
    "df = pd.read_csv('data/raw/turkish_music_emotion_modified.csv')\n",
    "\n",
    "# Mostrar forma y columnas\n",
    "print(\"Dimensiones del dataset:\", df.shape)\n",
    "print(\"\\nColumnas del dataset:\\n\", list(df.columns))\n",
    "\n",
    "# Tipos de datos y valores nulos (vista rápida)\n",
    "print(\"\\nInformación general del dataset:\")\n",
    "print(df.info())\n",
    "\n",
    "# Primeras filas\n",
    "print(\"\\nVista previa:\")\n",
    "display(df.head())\n",
    "\n",
    "# Conteo de valores faltantes\n",
    "print(\"\\nValores faltantes por columna:\")\n",
    "print(df.isnull().sum())"
   ]
  },
  {
   "cell_type": "markdown",
   "metadata": {
    "id": "-N8WmVUWHh7u"
   },
   "source": [
    "**Utilidades EDA**"
   ]
  },
  {
   "cell_type": "code",
   "execution_count": null,
   "metadata": {
    "executionInfo": {
     "elapsed": 10,
     "status": "ok",
     "timestamp": 1759948842134,
     "user": {
      "displayName": "Pako HP",
      "userId": "10168600589851358204"
     },
     "user_tz": 360
    },
    "id": "IRKx58kTHwAv"
   },
   "outputs": [],
   "source": [
    "plt.rcParams[\"figure.figsize\"] = (6,4)   # gráficos compactos\n",
    "plt.rcParams[\"axes.grid\"] = True\n",
    "\n",
    "def normalizar_nombres_columnas(df: pd.DataFrame) -> pd.DataFrame:\n",
    "    \"\"\"Normaliza nombres (snake_case, sin acentos). No altera datos.\"\"\"\n",
    "    def norm(s: str) -> str:\n",
    "        s = s.strip().lower()\n",
    "        s = (s.replace(\"á\",\"a\").replace(\"é\",\"e\").replace(\"í\",\"i\")\n",
    "               .replace(\"ó\",\"o\").replace(\"ú\",\"u\").replace(\"ñ\",\"n\"))\n",
    "        s = re.sub(r'[^a-z0-9]+', '_', s)\n",
    "        s = re.sub(r'_+','_', s).strip('_')\n",
    "        return s\n",
    "    return df.rename(columns={c: norm(c) for c in df.columns})\n",
    "\n",
    "def resumen_dataset(df: pd.DataFrame) -> pd.DataFrame:\n",
    "    \"\"\"Resumen por columna: dtype, nulos, %, únicos, ejemplo.\"\"\"\n",
    "    total = len(df)\n",
    "    resumen = []\n",
    "    for c in df.columns:\n",
    "        nulos = int(df[c].isna().sum())\n",
    "        unicos = int(df[c].nunique(dropna=True))\n",
    "        ejemplo = df[c].dropna().iloc[0] if df[c].dropna().shape[0] else None\n",
    "        resumen.append({\n",
    "            \"columna\": c,\n",
    "            \"tipo\": str(df[c].dtype),\n",
    "            \"nulos\": nulos,\n",
    "            \"%_nulos\": round(nulos/total*100, 2),\n",
    "            \"unicos\": unicos,\n",
    "            \"ejemplo\": ejemplo\n",
    "        })\n",
    "    return pd.DataFrame(resumen).sort_values(\"%_nulos\", ascending=False)\n",
    "\n",
    "def detectar_columnas_id(df: pd.DataFrame) -> List[str]:\n",
    "    \"\"\"Heurística de columnas ID (para no analizarlas como variables).\"\"\"\n",
    "    ids = []\n",
    "    for c in df.columns:\n",
    "        if re.search(r'(id|uuid|guid|folio|pk|code)$', c, flags=re.I):\n",
    "            ids.append(c)\n",
    "        if pd.api.types.is_integer_dtype(df[c]) and df[c].nunique(dropna=True) > 0.95*len(df):\n",
    "            ids.append(c)\n",
    "    return sorted(list(set(ids)))\n",
    "\n",
    "def detectar_posible_objetivo(df: pd.DataFrame) -> Optional[str]:\n",
    "    \"\"\"Intenta adivinar columna objetivo por nombres comunes.\"\"\"\n",
    "    posibles = [\"target\", \"label\", \"clase\", \"class\", \"emotion\", \"objetivo\", \"y\"]\n",
    "    candidatos = [c for c in df.columns if c.lower() in posibles]\n",
    "    return candidatos[0] if candidatos else None\n",
    "\n",
    "def estadisticas_descriptivas(df: pd.DataFrame, excluir: List[str]=[]) -> pd.DataFrame:\n",
    "    \"\"\"Describe numéricas (media, std, p25/p50/p75…) y cardinalidad de categóricas.\"\"\"\n",
    "    num_cols = [c for c in df.select_dtypes(include=np.number).columns if c not in excluir]\n",
    "    cat_cols = [c for c in df.select_dtypes(exclude=np.number).columns if c not in excluir]\n",
    "    desc_num = df[num_cols].describe().T if num_cols else pd.DataFrame()\n",
    "    if not desc_num.empty:\n",
    "        desc_num[\"nulos\"] = df[num_cols].isna().sum()\n",
    "    desc_cat = pd.DataFrame({\n",
    "        \"cardinalidad\": df[cat_cols].nunique(dropna=True),\n",
    "        \"nulos\": df[cat_cols].isna().sum()\n",
    "    }) if cat_cols else pd.DataFrame()\n",
    "    return desc_num, desc_cat\n",
    "\n",
    "def distribuciones_numericas(df: pd.DataFrame, columnas: List[str], max_columnas: int=12, bins:int=20):\n",
    "    \"\"\"Histogramas para un subconjunto de columnas numéricas.\"\"\"\n",
    "    cols = columnas[:max_columnas]\n",
    "    n = len(cols)\n",
    "    if n == 0:\n",
    "        print(\"No hay columnas numéricas para graficar.\")\n",
    "        return\n",
    "    # cuadrícula razonable\n",
    "    filas = int(np.ceil(n/3))\n",
    "    fig, axes = plt.subplots(filas, 3, figsize=(15, 4*filas))\n",
    "    axes = axes.flatten() if n>1 else [axes]\n",
    "    for i, c in enumerate(cols):\n",
    "        axes[i].hist(df[c].dropna(), bins=bins)\n",
    "        axes[i].set_title(f\"Distribución: {c}\")\n",
    "    for j in range(i+1, len(axes)):\n",
    "        fig.delaxes(axes[j])\n",
    "    plt.tight_layout()\n",
    "    plt.show()\n",
    "\n",
    "def distribuciones_categoricas(df: pd.DataFrame, columnas: List[str], top:int=10, max_columnas:int=12):\n",
    "    \"\"\"Barras de frecuencia para categóricas (top-k por columna).\"\"\"\n",
    "    cols = columnas[:max_columnas]\n",
    "    n = len(cols)\n",
    "    if n == 0:\n",
    "        print(\"No hay columnas categóricas para graficar.\")\n",
    "        return\n",
    "    filas = int(np.ceil(n/3))\n",
    "    fig, axes = plt.subplots(filas, 3, figsize=(15, 4*filas))\n",
    "    axes = axes.flatten() if n>1 else [axes]\n",
    "    for i, c in enumerate(cols):\n",
    "        vc = df[c].value_counts(dropna=False).head(top)\n",
    "        axes[i].bar(vc.index.astype(str), vc.values)\n",
    "        axes[i].set_title(f\"Frecuencias (top {top}): {c}\")\n",
    "        axes[i].tick_params(axis='x', rotation=45)\n",
    "    for j in range(i+1, len(axes)):\n",
    "        fig.delaxes(axes[j])\n",
    "    plt.tight_layout()\n",
    "    plt.show()\n",
    "\n",
    "def matriz_correlacion(df: pd.DataFrame, excluir: List[str]=[]):\n",
    "    \"\"\"Mapa de calor de correlaciones para numéricas.\"\"\"\n",
    "    num_cols = [c for c in df.select_dtypes(include=np.number).columns if c not in excluir]\n",
    "    if len(num_cols) < 2:\n",
    "        print(\"Se necesitan ≥2 columnas numéricas para correlación.\")\n",
    "        return\n",
    "    corr = df[num_cols].corr(numeric_only=True)\n",
    "    plt.figure(figsize=(8,6))\n",
    "    sns.heatmap(corr, cmap=\"coolwarm\", center=0, linewidths=.5)\n",
    "    plt.title(\"Matriz de correlación (numéricas)\")\n",
    "    plt.tight_layout()\n",
    "    plt.show()\n",
    "\n",
    "def boxplots_outliers_previos(df: pd.DataFrame, columnas: List[str], max_columnas:int=9):\n",
    "    \"\"\"Boxplots para visualizar outliers (previo a limpieza).\"\"\"\n",
    "    cols = columnas[:max_columnas]\n",
    "    n = len(cols)\n",
    "    if n == 0:\n",
    "        print(\"No hay columnas numéricas.\")\n",
    "        return\n",
    "    filas = int(np.ceil(n/3))\n",
    "    fig, axes = plt.subplots(filas, 3, figsize=(15, 4*filas))\n",
    "    axes = axes.flatten() if n>1 else [axes]\n",
    "    for i, c in enumerate(cols):\n",
    "        axes[i].boxplot(df[c].dropna(), vert=True)\n",
    "        axes[i].set_title(f\"Boxplot: {c}\")\n",
    "    for j in range(i+1, len(axes)):\n",
    "        fig.delaxes(axes[j])\n",
    "    plt.tight_layout()\n",
    "    plt.show()\n",
    "\n",
    "def analisis_objetivo(df: pd.DataFrame, nombre_objetivo: Optional[str]) -> None:\n",
    "    \"\"\"Resumen del objetivo: balance de clases o stats numéricas.\"\"\"\n",
    "    if not nombre_objetivo or nombre_objetivo not in df.columns:\n",
    "        print(\"No se identificó columna objetivo.\")\n",
    "        return\n",
    "    y = df[nombre_objetivo]\n",
    "    print(f\"Columna objetivo detectada: {nombre_objetivo}\")\n",
    "    if y.dtype.kind in \"ifu\":   # numérica\n",
    "        display(y.describe())\n",
    "        plt.hist(y.dropna(), bins=20)\n",
    "        plt.title(f\"Distribución del objetivo: {nombre_objetivo}\")\n",
    "        plt.show()\n",
    "    else:                        # categórica\n",
    "        vc = y.value_counts(dropna=False)\n",
    "        print(\"\\nBalance de clases:\")\n",
    "        display(vc.to_frame(\"conteo\").assign(porcentaje=lambda t: (t[\"conteo\"]/len(y)*100).round(2)))\n",
    "        plt.bar(vc.index.astype(str), vc.values)\n",
    "        plt.title(f\"Balance de clases: {nombre_objetivo}\")\n",
    "        plt.xticks(rotation=45)\n",
    "        plt.show()"
   ]
  },
  {
   "cell_type": "markdown",
   "metadata": {
    "id": "1NVoui_7IN4f"
   },
   "source": [
    "**EDA**"
   ]
  },
  {
   "cell_type": "markdown",
   "metadata": {
    "id": "ioUAAK3sIYfs"
   },
   "source": [
    "2.1 Normalizar solo los nombres"
   ]
  },
  {
   "cell_type": "code",
   "execution_count": null,
   "metadata": {
    "colab": {
     "base_uri": "https://localhost:8080/",
     "height": 192
    },
    "executionInfo": {
     "elapsed": 58,
     "status": "ok",
     "timestamp": 1759948975676,
     "user": {
      "displayName": "Pako HP",
      "userId": "10168600589851358204"
     },
     "user_tz": 360
    },
    "id": "s0HQu2O4IdFM",
    "outputId": "16da4eed-2c45-4e4d-e8ac-cc2ea85a5b5c"
   },
   "outputs": [],
   "source": [
    "# Normalizamos SOLO nombres de columnas para facilitar análisis (sin cambiar datos)\n",
    "df_eda = normalizar_nombres_columnas(df.copy())\n",
    "display(df_eda.head(3))"
   ]
  },
  {
   "cell_type": "markdown",
   "metadata": {
    "id": "0RNFdzLoIpOs"
   },
   "source": [
    "2.2 Resumen general por columna"
   ]
  },
  {
   "cell_type": "code",
   "execution_count": null,
   "metadata": {
    "colab": {
     "base_uri": "https://localhost:8080/",
     "height": 693
    },
    "executionInfo": {
     "elapsed": 84,
     "status": "ok",
     "timestamp": 1759949023905,
     "user": {
      "displayName": "Pako HP",
      "userId": "10168600589851358204"
     },
     "user_tz": 360
    },
    "id": "r-DC0jp6Iqw0",
    "outputId": "a0a8e7a3-ea3c-4aae-b903-57fd5733f78f"
   },
   "outputs": [],
   "source": [
    "resumen = resumen_dataset(df_eda)\n",
    "print(\"== Resumen por columna (ordenado por % de nulos) ==\")\n",
    "display(resumen.head(20))"
   ]
  },
  {
   "cell_type": "markdown",
   "metadata": {
    "id": "NtAiAYvBI08-"
   },
   "source": [
    "Identificar columnas ID y objetivo"
   ]
  },
  {
   "cell_type": "code",
   "execution_count": null,
   "metadata": {
    "colab": {
     "base_uri": "https://localhost:8080/"
    },
    "executionInfo": {
     "elapsed": 49,
     "status": "ok",
     "timestamp": 1759949085126,
     "user": {
      "displayName": "Pako HP",
      "userId": "10168600589851358204"
     },
     "user_tz": 360
    },
    "id": "_Gck5GeKI4pa",
    "outputId": "5f2fe5d4-234c-4bfe-cbda-864182997dbb"
   },
   "outputs": [],
   "source": [
    "cols_id = detectar_columnas_id(df_eda)\n",
    "print(\"Columnas con posibles de ID:\", cols_id)\n",
    "\n",
    "objetivo = detectar_posible_objetivo(df_eda)\n",
    "print(\"Posible columna objetivo:\", objetivo)"
   ]
  },
  {
   "cell_type": "markdown",
   "metadata": {
    "id": "7El0WfssJLJG"
   },
   "source": [
    "Estadísticas descriptivas"
   ]
  },
  {
   "cell_type": "code",
   "execution_count": null,
   "metadata": {
    "colab": {
     "base_uri": "https://localhost:8080/",
     "height": 1000
    },
    "executionInfo": {
     "elapsed": 80,
     "status": "ok",
     "timestamp": 1759949234262,
     "user": {
      "displayName": "Pako HP",
      "userId": "10168600589851358204"
     },
     "user_tz": 360
    },
    "id": "jrLeaNQsJL52",
    "outputId": "67668718-98ee-42e8-97ca-1f74af8ba754"
   },
   "outputs": [],
   "source": [
    "desc_num, desc_cat = estadisticas_descriptivas(df_eda, excluir=cols_id)\n",
    "print(\"== Numéricas ==\")\n",
    "display(desc_num.head(20))\n",
    "print(\"\\n== Categóricas (cardinalidad & nulos) ==\")\n",
    "display(desc_cat.head(20))"
   ]
  },
  {
   "cell_type": "markdown",
   "metadata": {
    "id": "7PmGOJcVJowT"
   },
   "source": [
    "Manejo de Nulos"
   ]
  },
  {
   "cell_type": "code",
   "execution_count": null,
   "metadata": {
    "colab": {
     "base_uri": "https://localhost:8080/",
     "height": 1000
    },
    "executionInfo": {
     "elapsed": 74,
     "status": "ok",
     "timestamp": 1759949302220,
     "user": {
      "displayName": "Pako HP",
      "userId": "10168600589851358204"
     },
     "user_tz": 360
    },
    "id": "7mBJKRIrJsu4",
    "outputId": "9a442d20-084f-490e-a8ad-3a09e17433be"
   },
   "outputs": [],
   "source": [
    "tabla_nulos = (\n",
    "    df_eda.isna().sum().to_frame(\"nulos\")\n",
    "      .assign(porcentaje=lambda t: (t[\"nulos\"]/len(df_eda)*100).round(2))\n",
    "      .sort_values(\"nulos\", ascending=False)\n",
    ")\n",
    "print(\"== Nulos por columna ==\")\n",
    "display(tabla_nulos.head(30))"
   ]
  },
  {
   "cell_type": "markdown",
   "metadata": {
    "id": "GWXHgBEoKKp2"
   },
   "source": [
    "Distribuciones: numéricas"
   ]
  },
  {
   "cell_type": "code",
   "execution_count": null,
   "metadata": {
    "colab": {
     "base_uri": "https://localhost:8080/",
     "height": 913
    },
    "executionInfo": {
     "elapsed": 1833,
     "status": "ok",
     "timestamp": 1759949445421,
     "user": {
      "displayName": "Pako HP",
      "userId": "10168600589851358204"
     },
     "user_tz": 360
    },
    "id": "0VpHSzI5KR_N",
    "outputId": "40427dbc-dfe1-4e24-bad3-42bea4c53a68"
   },
   "outputs": [],
   "source": [
    "cols_num = [c for c in df_eda.select_dtypes(include=np.number).columns if c not in cols_id]\n",
    "distribuciones_numericas(df_eda, columnas=cols_num, max_columnas=9, bins=20)"
   ]
  },
  {
   "cell_type": "markdown",
   "metadata": {
    "id": "wqrcrcrvKcsb"
   },
   "source": [
    "Distribuciones: categóricas"
   ]
  },
  {
   "cell_type": "code",
   "execution_count": null,
   "metadata": {
    "colab": {
     "base_uri": "https://localhost:8080/",
     "height": 913
    },
    "executionInfo": {
     "elapsed": 1688,
     "status": "ok",
     "timestamp": 1759949518329,
     "user": {
      "displayName": "Pako HP",
      "userId": "10168600589851358204"
     },
     "user_tz": 360
    },
    "id": "S3gmRLUZKeYT",
    "outputId": "a4682c95-025f-4d4d-d41d-d04eb1c35756"
   },
   "outputs": [],
   "source": [
    "cols_cat = [c for c in df_eda.select_dtypes(exclude=np.number).columns if c not in cols_id]\n",
    "distribuciones_categoricas(df_eda, columnas=cols_cat, top=10, max_columnas=9)"
   ]
  },
  {
   "cell_type": "markdown",
   "metadata": {
    "id": "G1QY7_xaKpFN"
   },
   "source": [
    "Correlación"
   ]
  },
  {
   "cell_type": "code",
   "execution_count": null,
   "metadata": {
    "colab": {
     "base_uri": "https://localhost:8080/",
     "height": 607
    },
    "executionInfo": {
     "elapsed": 626,
     "status": "ok",
     "timestamp": 1759949561109,
     "user": {
      "displayName": "Pako HP",
      "userId": "10168600589851358204"
     },
     "user_tz": 360
    },
    "id": "DGhBW-oBKubu",
    "outputId": "5fd1fb11-1ee7-45a2-8b58-b6765b431d00"
   },
   "outputs": [],
   "source": [
    "matriz_correlacion(df_eda, excluir=cols_id)"
   ]
  },
  {
   "cell_type": "markdown",
   "metadata": {
    "id": "Wb2oJbt5K4x_"
   },
   "source": [
    "Outliers (solo visualización previa, sin limpiar)"
   ]
  },
  {
   "cell_type": "code",
   "execution_count": null,
   "metadata": {
    "colab": {
     "base_uri": "https://localhost:8080/",
     "height": 914
    },
    "executionInfo": {
     "elapsed": 1568,
     "status": "ok",
     "timestamp": 1759949610084,
     "user": {
      "displayName": "Pako HP",
      "userId": "10168600589851358204"
     },
     "user_tz": 360
    },
    "id": "pH8HjQJRK6Cz",
    "outputId": "ddfe789c-40ac-4174-acab-2ab44f717905"
   },
   "outputs": [],
   "source": [
    "boxplots_outliers_previos(df_eda, columnas=cols_num, max_columnas=9)"
   ]
  },
  {
   "cell_type": "markdown",
   "metadata": {
    "id": "iaEpNPLVK_yn"
   },
   "source": [
    "Análisis del objetivo"
   ]
  },
  {
   "cell_type": "code",
   "execution_count": null,
   "metadata": {
    "colab": {
     "base_uri": "https://localhost:8080/",
     "height": 824
    },
    "executionInfo": {
     "elapsed": 195,
     "status": "ok",
     "timestamp": 1759949661759,
     "user": {
      "displayName": "Pako HP",
      "userId": "10168600589851358204"
     },
     "user_tz": 360
    },
    "id": "kiSoqRYlLH4u",
    "outputId": "9a2a079c-fd4c-427d-f1b2-d62a5a4b7065"
   },
   "outputs": [],
   "source": [
    "analisis_objetivo(df_eda, objetivo)"
   ]
  },
  {
   "cell_type": "markdown",
   "metadata": {
    "id": "ztADbBVrNnGR"
   },
   "source": [
    "**Limpieza y Preparación**"
   ]
  },
  {
   "cell_type": "markdown",
   "metadata": {
    "id": "1A3stBEON2PK"
   },
   "source": [
    "Configuración y rutas"
   ]
  },
  {
   "cell_type": "code",
   "execution_count": null,
   "metadata": {
    "colab": {
     "base_uri": "https://localhost:8080/"
    },
    "executionInfo": {
     "elapsed": 51,
     "status": "ok",
     "timestamp": 1759950395090,
     "user": {
      "displayName": "Pako HP",
      "userId": "10168600589851358204"
     },
     "user_tz": 360
    },
    "id": "xbg41oATN5eO",
    "outputId": "2e808d97-26d3-4b51-e5ac-46d2d99ee124"
   },
   "outputs": [],
   "source": [
    "# Rutas de trabajo\n",
    "RUTA_RAW   = Path(\"data/raw/turkish_music_emotion_modified.csv\")\n",
    "DIR_CLEAN  = Path(\"data/clean\");  DIR_CLEAN.mkdir(parents=True, exist_ok=True)\n",
    "DIR_PROC   = Path(\"data/processed\"); DIR_PROC.mkdir(parents=True, exist_ok=True)\n",
    "DIR_META   = Path(\"artifacts/meta\"); DIR_META.mkdir(parents=True, exist_ok=True)\n",
    "\n",
    "# Cargar el dataset crudo nuevamente (para partir de lo mismo de la EDA)\n",
    "df = pd.read_csv(RUTA_RAW)\n",
    "print(\"Dimensiones crudo:\", df.shape)\n"
   ]
  },
  {
   "cell_type": "markdown",
   "metadata": {
    "id": "yz57yOmqOOCB"
   },
   "source": [
    "Copia “no modificada”"
   ]
  },
  {
   "cell_type": "code",
   "execution_count": null,
   "metadata": {
    "colab": {
     "base_uri": "https://localhost:8080/"
    },
    "executionInfo": {
     "elapsed": 43,
     "status": "ok",
     "timestamp": 1759950507233,
     "user": {
      "displayName": "Pako HP",
      "userId": "10168600589851358204"
     },
     "user_tz": 360
    },
    "id": "N_rlBi1POPmF",
    "outputId": "0667fe3d-1d97-496b-cc18-89ce4e1983ac"
   },
   "outputs": [],
   "source": [
    "# 2.B GUARDAR COPIA \"NO MODIFICADA\" PARA COMPARACIÓN\n",
    "RUTA_ORIGINAL = DIR_CLEAN / \"dataset_original_sin_modificar.csv\"\n",
    "df.to_csv(RUTA_ORIGINAL, index=False, encoding=\"utf-8\")\n",
    "print(\"Copia no modificada guardada en:\", RUTA_ORIGINAL)\n"
   ]
  },
  {
   "cell_type": "markdown",
   "metadata": {
    "id": "RcpoQHdDOeMC"
   },
   "source": [
    "Normalización de nombres y Limpieza de strings"
   ]
  },
  {
   "cell_type": "code",
   "execution_count": null,
   "metadata": {
    "colab": {
     "base_uri": "https://localhost:8080/"
    },
    "executionInfo": {
     "elapsed": 50,
     "status": "ok",
     "timestamp": 1759950591005,
     "user": {
      "displayName": "Pako HP",
      "userId": "10168600589851358204"
     },
     "user_tz": 360
    },
    "id": "ey4fITMFOkrV",
    "outputId": "a8a450a2-ef49-457b-9610-88cf61a4fca9"
   },
   "outputs": [],
   "source": [
    "# 2.C NORMALIZAR NOMBRES Y LIMPIAR STRINGS (espacios / 'nan' / vacíos)\n",
    "def normalizar_nombres_columnas(df: pd.DataFrame) -> pd.DataFrame:\n",
    "    def norm(s: str) -> str:\n",
    "        s = s.strip().lower()\n",
    "        s = (s.replace(\"á\",\"a\").replace(\"é\",\"e\").replace(\"í\",\"i\")\n",
    "               .replace(\"ó\",\"o\").replace(\"ú\",\"u\").replace(\"ñ\",\"n\"))\n",
    "        s = re.sub(r'[^a-z0-9]+','_', s)\n",
    "        s = re.sub(r'_+','_', s).strip('_')\n",
    "        return s\n",
    "    return df.rename(columns={c: norm(c) for c in df.columns})\n",
    "\n",
    "def limpiar_textos(df: pd.DataFrame) -> pd.DataFrame:\n",
    "    obj_cols = [c for c in df.columns if df[c].dtype == \"object\"]\n",
    "    for c in obj_cols:\n",
    "        df[c] = df[c].astype(str).str.strip()\n",
    "        df[c] = df[c].replace({\"\": np.nan, \"nan\": np.nan, \"None\": np.nan})\n",
    "    return df\n",
    "\n",
    "df = normalizar_nombres_columnas(df.copy())\n",
    "df = limpiar_textos(df)\n",
    "print(\"Nombres normalizados y textos limpiados\")\n"
   ]
  },
  {
   "cell_type": "markdown",
   "metadata": {
    "id": "tlnR4lIROzPa"
   },
   "source": [
    "Eliminar filas inválidas del objetivo y duplicados"
   ]
  },
  {
   "cell_type": "code",
   "execution_count": null,
   "metadata": {
    "colab": {
     "base_uri": "https://localhost:8080/"
    },
    "executionInfo": {
     "elapsed": 55,
     "status": "ok",
     "timestamp": 1759950679141,
     "user": {
      "displayName": "Pako HP",
      "userId": "10168600589851358204"
     },
     "user_tz": 360
    },
    "id": "YhVcMhgDO4yu",
    "outputId": "2f1e95d4-cfa9-4fe6-9cef-28fe9eb19682"
   },
   "outputs": [],
   "source": [
    "# 2.E ELIMINAR REGISTROS INVÁLIDOS DE OBJETIVO Y DUPLICADOS\n",
    "col_objetivo = \"class\"\n",
    "filas_antes = len(df)\n",
    "if col_objetivo in df.columns:\n",
    "    df = df[~df[col_objetivo].isna()].copy()\n",
    "    print(f\"✔ Filas sin objetivo eliminadas: {filas_antes - len(df)}\")\n",
    "\n",
    "dup = int(df.duplicated().sum())\n",
    "df = df.drop_duplicates().copy()\n",
    "print(\"✔ Filas duplicadas eliminadas:\", dup)\n"
   ]
  },
  {
   "cell_type": "markdown",
   "metadata": {
    "id": "HRHSEaBgPv-k"
   },
   "source": [
    "Reporte de nulos"
   ]
  },
  {
   "cell_type": "code",
   "execution_count": null,
   "metadata": {
    "colab": {
     "base_uri": "https://localhost:8080/",
     "height": 537
    },
    "executionInfo": {
     "elapsed": 59,
     "status": "ok",
     "timestamp": 1759950989417,
     "user": {
      "displayName": "Pako HP",
      "userId": "10168600589851358204"
     },
     "user_tz": 360
    },
    "id": "RM89Km0lQIUk",
    "outputId": "43477f66-4195-4090-9863-9277ce0c7fa2"
   },
   "outputs": [],
   "source": [
    "# 2.F REPORTE DE NULOS (ANTES DE IMPUTACIÓN)\n",
    "\n",
    "tabla_nulos_antes = (\n",
    "    df.isna().sum().to_frame(\"nulos\")\n",
    "      .assign(porcentaje=lambda t: (t[\"nulos\"]/len(df)*100).round(2))\n",
    "      .sort_values(\"nulos\", ascending=False)\n",
    ")\n",
    "tabla_nulos_antes.to_csv(DIR_META / \"nulos_antes.csv\", encoding=\"utf-8\")\n",
    "print(\"Top nulos (antes):\")\n",
    "display(tabla_nulos_antes.head(15))\n"
   ]
  },
  {
   "cell_type": "markdown",
   "metadata": {
    "id": "iFtMtoQ0QVGu"
   },
   "source": [
    "Imputación (mediana para numéricas, moda para categóricas)"
   ]
  },
  {
   "cell_type": "code",
   "execution_count": null,
   "metadata": {
    "colab": {
     "base_uri": "https://localhost:8080/"
    },
    "executionInfo": {
     "elapsed": 44,
     "status": "ok",
     "timestamp": 1759951049296,
     "user": {
      "displayName": "Pako HP",
      "userId": "10168600589851358204"
     },
     "user_tz": 360
    },
    "id": "aiavi3I8QW5_",
    "outputId": "80e75cdd-3f51-4887-b45b-897a4412fc12"
   },
   "outputs": [],
   "source": [
    "# 2.G IMPUTACIÓN DE NULOS (mediana / moda)\n",
    "num_cols = [c for c in df.select_dtypes(include=np.number).columns]\n",
    "cat_cols = [c for c in df.select_dtypes(exclude=np.number).columns]\n",
    "\n",
    "# Medianas para numéricas\n",
    "medianas = df[num_cols].median(numeric_only=True)\n",
    "df[num_cols] = df[num_cols].fillna(medianas)\n",
    "\n",
    "# Modas para categóricas\n",
    "modas = {}\n",
    "for c in cat_cols:\n",
    "    moda = df[c].mode(dropna=True)\n",
    "    modas[c] = (moda.iloc[0] if not moda.empty else \"desconocido\")\n",
    "    df[c] = df[c].fillna(modas[c])\n",
    "\n",
    "# Guardar diccionarios de imputación (para reproducibilidad)\n",
    "(DIR_META / \"imputacion_medianas.json\").write_text(medianas.to_json(), encoding=\"utf-8\")\n",
    "(DIR_META / \"imputacion_modas.json\").write_text(json.dumps(modas, ensure_ascii=False, indent=2), encoding=\"utf-8\")\n",
    "\n",
    "print(\"Imputación realizada (medianas y modas)\")\n"
   ]
  },
  {
   "cell_type": "markdown",
   "metadata": {
    "id": "a93CuCoNQjeo"
   },
   "source": [
    "Manejo de Outliers"
   ]
  },
  {
   "cell_type": "code",
   "execution_count": null,
   "metadata": {
    "colab": {
     "base_uri": "https://localhost:8080/"
    },
    "executionInfo": {
     "elapsed": 49,
     "status": "ok",
     "timestamp": 1759951141748,
     "user": {
      "displayName": "Pako HP",
      "userId": "10168600589851358204"
     },
     "user_tz": 360
    },
    "id": "1v1ASOZZQrZa",
    "outputId": "236070dc-1158-488b-badb-5fabde54056c"
   },
   "outputs": [],
   "source": [
    "# 2.H OUTLIERS: WINSORIZACIÓN POR IQR (REPORTE JSON)\n",
    "def limites_iqr(s: pd.Series, k: float = 1.5):\n",
    "    q1, q3 = s.quantile(0.25), s.quantile(0.75)\n",
    "    iqr = q3 - q1\n",
    "    return (q1 - k*iqr, q3 + k*iqr)\n",
    "\n",
    "def winsorizar_iqr(df: pd.DataFrame, columnas: list, k: float = 1.5, guardar=True):\n",
    "    reporte = {}\n",
    "    for c in columnas:\n",
    "        serie = df[c]\n",
    "        if serie.notna().sum() == 0:\n",
    "            continue\n",
    "        lo, hi = limites_iqr(serie, k)\n",
    "        antes = int(((serie < lo) | (serie > hi)).sum())\n",
    "        df[c] = serie.clip(lower=lo, upper=hi)\n",
    "        despues = int(((df[c] < lo) | (df[c] > hi)).sum())\n",
    "        reporte[c] = {\"antes\": antes, \"despues\": despues, \"lim_inf\": float(lo), \"lim_sup\": float(hi)}\n",
    "    if guardar:\n",
    "        (DIR_META / \"outliers_iqr.json\").write_text(json.dumps(reporte, indent=2, ensure_ascii=False), encoding=\"utf-8\")\n",
    "    return df\n",
    "\n",
    "df = winsorizar_iqr(df, num_cols, k=1.5, guardar=True)\n",
    "print(\"Outliers tratados por IQR (reporte en artifacts/meta/outliers_iqr.json)\")\n"
   ]
  },
  {
   "cell_type": "markdown",
   "metadata": {
    "id": "Byz9L6XBRB7S"
   },
   "source": [
    "Validaciones finales + guardar versión “limpia”"
   ]
  },
  {
   "cell_type": "code",
   "execution_count": null,
   "metadata": {
    "colab": {
     "base_uri": "https://localhost:8080/",
     "height": 432
    },
    "executionInfo": {
     "elapsed": 204,
     "status": "ok",
     "timestamp": 1759951227400,
     "user": {
      "displayName": "Pako HP",
      "userId": "10168600589851358204"
     },
     "user_tz": 360
    },
    "id": "OrmpTqp6REGi",
    "outputId": "bbed9361-3800-411b-f1ea-fe7899ce6ad9"
   },
   "outputs": [],
   "source": [
    "\n",
    "# Comprobar nulos después\n",
    "tabla_nulos_despues = (\n",
    "    df.isna().sum().to_frame(\"nulos\")\n",
    "      .assign(porcentaje=lambda t: (t[\"nulos\"]/len(df)*100).round(2))\n",
    "      .sort_values(\"nulos\", ascending=False)\n",
    ")\n",
    "tabla_nulos_despues.to_csv(DIR_META / \"nulos_despues.csv\", encoding=\"utf-8\")\n",
    "\n",
    "print(\"Nulos (después) - top:\")\n",
    "display(tabla_nulos_despues.head(10))\n",
    "\n",
    "# Guardar CSV/parquet limpios\n",
    "RUTA_LIMPIO_CSV = DIR_CLEAN / \"dataset_limpio.csv\"\n",
    "RUTA_LIMPIO_PAR = DIR_CLEAN / \"dataset_limpio.parquet\"\n",
    "df.to_csv(RUTA_LIMPIO_CSV, index=False, encoding=\"utf-8\")\n",
    "df.to_parquet(RUTA_LIMPIO_PAR, index=False)\n",
    "\n",
    "print(\"✅ Dataset limpio guardado en:\")\n",
    "print(\"  -\", RUTA_LIMPIO_CSV)\n",
    "print(\"  -\", RUTA_LIMPIO_PAR)\n"
   ]
  },
  {
   "cell_type": "markdown",
   "metadata": {
    "id": "1UDeMNGtRQj-"
   },
   "source": [
    "Separación X/y y exportar para modelado"
   ]
  },
  {
   "cell_type": "code",
   "execution_count": null,
   "metadata": {
    "colab": {
     "base_uri": "https://localhost:8080/"
    },
    "executionInfo": {
     "elapsed": 60,
     "status": "ok",
     "timestamp": 1759951304047,
     "user": {
      "displayName": "Pako HP",
      "userId": "10168600589851358204"
     },
     "user_tz": 360
    },
    "id": "6uKyX5EKRVKf",
    "outputId": "71e2d551-efb7-4fba-98b0-8328981acdcd"
   },
   "outputs": [],
   "source": [
    "\n",
    "col_objetivo = \"class\"  # ajusta si corresponde\n",
    "if col_objetivo in df.columns:\n",
    "    y = df[col_objetivo]\n",
    "    X = df.drop(columns=[col_objetivo])\n",
    "\n",
    "    # Guardar para el punto de modelado\n",
    "    (DIR_PROC / \"X.csv\").write_text(X.to_csv(index=False), encoding=\"utf-8\")\n",
    "    (DIR_PROC / \"y.csv\").write_text(y.to_csv(index=False, header=True), encoding=\"utf-8\")\n",
    "    print(\"✔ Archivos para modelado guardados en data/processed/: X.csv y y.csv\")\n",
    "else:\n",
    "    print(\"ℹ️ No se encontró columna objetivo 'class'; omito exportación X/y.\")\n"
   ]
  },
  {
   "cell_type": "markdown",
   "metadata": {
    "id": "_slqYTfXRp7d"
   },
   "source": [
    "Versionado con DVC"
   ]
  },
  {
   "cell_type": "code",
   "execution_count": null,
   "metadata": {
    "colab": {
     "base_uri": "https://localhost:8080/"
    },
    "executionInfo": {
     "elapsed": 23052,
     "status": "ok",
     "timestamp": 1759951576123,
     "user": {
      "displayName": "Pako HP",
      "userId": "10168600589851358204"
     },
     "user_tz": 360
    },
    "id": "4NxJ4_hxRs9F",
    "outputId": "343144e2-c458-4fae-81e1-6e03abc3d044"
   },
   "outputs": [],
   "source": [
    "\n",
    "# 2.K.1 ASEGURAR QUE DVC ESTÉ INSTALADO\n",
    "\n",
    "import importlib, sys, subprocess\n",
    "\n",
    "def asegurar_paquete(paquete: str):\n",
    "    try:\n",
    "        importlib.import_module(paquete)\n",
    "        print(f\" {paquete} ya está instalado.\")\n",
    "    except ImportError:\n",
    "        print(f\"Instalando {paquete} ...\")\n",
    "        subprocess.check_call([sys.executable, \"-m\", \"pip\", \"install\", \"-q\", paquete])\n",
    "        importlib.invalidate_caches()\n",
    "        importlib.import_module(paquete)\n",
    "        print(f\"{paquete} instalado.\")\n",
    "\n",
    "asegurar_paquete(\"dvc\")\n"
   ]
  },
  {
   "cell_type": "markdown",
   "metadata": {
    "id": "oEyTdfpjSsUz"
   },
   "source": [
    "Versionado"
   ]
  },
  {
   "cell_type": "code",
   "execution_count": null,
   "metadata": {
    "colab": {
     "base_uri": "https://localhost:8080/"
    },
    "executionInfo": {
     "elapsed": 22282,
     "status": "ok",
     "timestamp": 1759953940904,
     "user": {
      "displayName": "Pako HP",
      "userId": "10168600589851358204"
     },
     "user_tz": 360
    },
    "id": "lv_hDNbiStej",
    "outputId": "e988c736-ceb0-403d-8585-e7798e13039a"
   },
   "outputs": [],
   "source": [
    "%%bash\n",
    "set -e\n",
    "\n",
    "echo \"== 2.K.2 Versionado con DVC (libreta) ==\"\n",
    "\n",
    "# 1) Inicializar DVC SOLO si no existe\n",
    "if [ ! -d \".dvc\" ]; then\n",
    "  echo \"Inicializando DVC...\"\n",
    "  dvc init -q\n",
    "else\n",
    "  echo \"DVC ya estaba inicializado.\"\n",
    "fi\n",
    "\n",
    "# 2) Asegurar que existen los archivos esperados antes de agregarlos\n",
    "ls -lah data/clean || true\n",
    "ls -lah artifacts/meta || true\n",
    "\n",
    "# 3) Agregar con DVC los artefactos clave de esta fase\n",
    "#    (ajusta o comenta los que no existan en tu caso)\n",
    "echo \"Agregando datasets y reportes a DVC...\"\n",
    "dvc add data/raw/turkish_music_emotion_modified.csv || true\n",
    "dvc add data/clean/dataset_original_sin_modificar.csv || true\n",
    "dvc add data/clean/dataset_limpio.csv || true\n",
    "dvc add data/clean/dataset_limpio.parquet || true\n",
    "dvc add artifacts/meta/nulos_antes.csv || true\n",
    "dvc add artifacts/meta/nulos_despues.csv || true\n",
    "dvc add artifacts/meta/outliers_iqr.json || true\n",
    "dvc add artifacts/meta/imputacion_medianas.json || true\n",
    "dvc add artifacts/meta/imputacion_modas.json || true\n",
    "\n",
    "# (Opcional) si en 2.J guardaste X/y:\n",
    "if [ -f \"data/processed/X.csv\" ]; then dvc add data/processed/X.csv; fi\n",
    "if [ -f \"data/processed/y.csv\" ]; then dvc add data/processed/y.csv; fi\n",
    "\n",
    "# 4) Si estamos en un repositorio Git, versionar .dvc y .gitignore\n",
    "if git rev-parse --is-inside-work-tree >/dev/null 2>&1; then\n",
    "  echo \"Repositorio Git detectado: agregando y haciendo commit…\"\n",
    "  git add .gitignore *.dvc */*.dvc */*/*.dvc || true\n",
    "  git add data/clean/*.csv.dvc data/clean/*.parquet.dvc artifacts/meta/*.dvc || true\n",
    "  git add data/raw/*.csv.dvc data/processed/*.dvc || true\n",
    "\n",
    "  git commit -m \"DVC: datasets con EDA y Limpio + reportes de nulos y outliers\"\n",
    "else\n",
    "  echo \"No se detectó repositorio Git. Se omitió 'git add/commit'.\"\n",
    "  echo \"   Sugerencia: corre 'git init' y vuelve a ejecutar esta celda para trackear las .dvc con Git.\"\n",
    "fi\n",
    "\n",
    "echo \"Listo: archivos registrados con DVC.\"\n",
    "echo \"   (Si ya tienes remoto DVC configurado, puedes 'dvc push' en otra celda.)\"\n"
   ]
  },
  {
   "cell_type": "markdown",
   "metadata": {
    "id": "YTz8Cl-AjaaI"
   },
   "source": [
    "**Configuracion DVC remoto**"
   ]
  },
  {
   "cell_type": "markdown",
   "metadata": {
    "id": "C_E9I9obpBLb"
   },
   "source": [
    "Instalar el plugin de Azure"
   ]
  },
  {
   "cell_type": "code",
   "execution_count": null,
   "metadata": {
    "colab": {
     "base_uri": "https://localhost:8080/"
    },
    "executionInfo": {
     "elapsed": 8942,
     "status": "ok",
     "timestamp": 1759957537752,
     "user": {
      "displayName": "Pako HP",
      "userId": "10168600589851358204"
     },
     "user_tz": 360
    },
    "id": "ehZbX_LcpFgQ",
    "outputId": "1d69f775-d571-4388-c78a-cde92409fd83"
   },
   "outputs": [],
   "source": [
    "import sys, subprocess\n",
    "subprocess.check_call([sys.executable, \"-m\", \"pip\", \"install\", \"-q\", \"--upgrade\", \"dvc-azure\"])\n",
    "print(\"dvc-azure listo\")\n"
   ]
  },
  {
   "cell_type": "markdown",
   "metadata": {
    "id": "cykhAwecpRlK"
   },
   "source": [
    "Configuracion de SAS de Azure"
   ]
  },
  {
   "cell_type": "code",
   "execution_count": null,
   "metadata": {
    "colab": {
     "base_uri": "https://localhost:8080/"
    },
    "executionInfo": {
     "elapsed": 16171,
     "status": "ok",
     "timestamp": 1759957622107,
     "user": {
      "displayName": "Pako HP",
      "userId": "10168600589851358204"
     },
     "user_tz": 360
    },
    "id": "2U1MXAVvpU5P",
    "outputId": "f5b299ba-b392-45b0-bd5d-4a3e911ca251"
   },
   "outputs": [],
   "source": [
    "%%bash\n",
    "set -e\n",
    "\n",
    "# Datos de tu Azure Blob\n",
    "export AZURE_STORAGE_ACCOUNT=\"mlopsdvc\"\n",
    "export AZURE_STORAGE_CONTAINER=\"dvcdata\"\n",
    "# Pega tu SAS tal cual (incluye el '?' inicial)\n",
    "export AZURE_SAS_TOKEN=\"?sp=rwdl&st=2025-10-08T20:17:13Z&se=2026-01-02T04:32:13Z&spr=https&sv=2024-11-04&sr=c&sig=N4S%2FLFOyQ5q%2BsrHkgx3zKhZ3%2BiktEYy5smHLGZE3pvY%3D\"\n",
    "\n",
    "# Inicializa DVC si aún no existe la carpeta .dvc (no toca git init)\n",
    "[ -d \".dvc\" ] || dvc init -q\n",
    "\n",
    "# Define/actualiza el remoto por defecto 'azdatos' apuntando al contenedor (sin subcarpeta)\n",
    "REMOTE_URL=\"azure://${AZURE_STORAGE_CONTAINER}\"\n",
    "if ! dvc remote list | grep -q \"^azdatos\"; then\n",
    "  dvc remote add -d azdatos \"$REMOTE_URL\"\n",
    "else\n",
    "  dvc remote modify azdatos url \"$REMOTE_URL\"\n",
    "fi\n",
    "\n",
    "# Config pública (no secreta) y SAS en config.local (no se sube a git)\n",
    "dvc remote modify azdatos account_name \"$AZURE_STORAGE_ACCOUNT\"\n",
    "dvc remote modify --local azdatos sas_token \"$AZURE_SAS_TOKEN\"\n",
    "\n",
    "# Push directo al remoto\n",
    "dvc push\n",
    "\n",
    "echo \"dvc push completado en azure://${AZURE_STORAGE_CONTAINER} (cuenta: $AZURE_STORAGE_ACCOUNT)\"\n"
   ]
  },
  {
   "cell_type": "markdown",
   "metadata": {
    "id": "J4ERvwh430gt"
   },
   "source": [
    "Push a git"
   ]
  },
  {
   "cell_type": "code",
   "execution_count": null,
   "metadata": {
    "colab": {
     "base_uri": "https://localhost:8080/"
    },
    "executionInfo": {
     "elapsed": 56882,
     "status": "ok",
     "timestamp": 1760040391339,
     "user": {
      "displayName": "Pako HP",
      "userId": "10168600589851358204"
     },
     "user_tz": 360
    },
    "id": "yjaUFipXlCVM",
    "outputId": "e1b1d49f-7547-4570-9f0d-3e491c585bc8"
   },
   "outputs": [],
   "source": [
    "from google.colab import drive\n",
    "drive.mount('/content/drive')\n"
   ]
  },
  {
   "cell_type": "code",
   "execution_count": null,
   "metadata": {
    "colab": {
     "base_uri": "https://localhost:8080/"
    },
    "executionInfo": {
     "elapsed": 17000,
     "status": "ok",
     "timestamp": 1760040426970,
     "user": {
      "displayName": "Pako HP",
      "userId": "10168600589851358204"
     },
     "user_tz": 360
    },
    "id": "YUqrxH8nlUzo",
    "outputId": "46f7de70-9872-4f8d-aa5e-41358c1a3365"
   },
   "outputs": [],
   "source": [
    "%%bash\n",
    "set -e\n",
    "echo \"🔎 Buscando Fase1_AvanceProyecto.ipynb en rutas comunes (incluye Drive montado)...\"\n",
    "for p in /content \"/content/Colab Notebooks\" \"/content/drive/MyDrive\" \"/content/drive/MyDrive/Colab Notebooks\"; do\n",
    "  if [ -d \"$p\" ]; then\n",
    "    echo; echo \"📂 $p\"\n",
    "    find \"$p\" -maxdepth 6 -type f -name \"Fase1_AvanceProyecto.ipynb\" 2>/dev/null || true\n",
    "  fi\n",
    "done\n"
   ]
  }
 ],
 "metadata": {
  "colab": {
   "authorship_tag": "ABX9TyM9d78MZ5KyPWTW6HNitxxc",
   "provenance": []
  },
  "kernelspec": {
   "display_name": "Python 3",
   "name": "python3"
  },
  "language_info": {
   "name": "python"
  }
 },
 "nbformat": 4,
 "nbformat_minor": 0
}
